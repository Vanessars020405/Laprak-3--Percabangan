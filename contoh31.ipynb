{
 "cells": [
  {
   "cell_type": "code",
   "execution_count": 1,
   "metadata": {},
   "outputs": [
    {
     "name": "stdout",
     "output_type": "stream",
     "text": [
      "anda normal\n"
     ]
    }
   ],
   "source": [
    "try:\n",
    "    suhu = int(input(\"masukan suhu tubuh anda = \"))\n",
    "    if suhu >= 38:\n",
    "        print (\"anda demam\")\n",
    "    else :\n",
    "        print(\"anda normal\")\n",
    "\n",
    "except:\n",
    "    print(\"format inputan salah\")"
   ]
  },
  {
   "cell_type": "code",
   "execution_count": 2,
   "metadata": {},
   "outputs": [
    {
     "name": "stdout",
     "output_type": "stream",
     "text": [
      "anda demam\n"
     ]
    }
   ],
   "source": [
    "try:\n",
    "    suhu = int(input(\"masukan suhu tubuh anda = \"))\n",
    "    if suhu >= 38:\n",
    "        print (\"anda demam\")\n",
    "    else :\n",
    "        print(\"anda normal\")\n",
    "\n",
    "except:\n",
    "    print(\"format inputan salah\")"
   ]
  },
  {
   "cell_type": "code",
   "execution_count": 3,
   "metadata": {},
   "outputs": [
    {
     "name": "stdout",
     "output_type": "stream",
     "text": [
      "format inputan salah\n"
     ]
    }
   ],
   "source": [
    "try:\n",
    "    suhu = int(input(\"masukan suhu tubuh anda = \"))\n",
    "    if suhu >= 38:\n",
    "        print (\"anda demam\")\n",
    "    else :\n",
    "        print(\"anda normal\")\n",
    "\n",
    "except:\n",
    "    print(\"format inputan salah\")"
   ]
  }
 ],
 "metadata": {
  "kernelspec": {
   "display_name": "Python 3",
   "language": "python",
   "name": "python3"
  },
  "language_info": {
   "codemirror_mode": {
    "name": "ipython",
    "version": 3
   },
   "file_extension": ".py",
   "mimetype": "text/x-python",
   "name": "python",
   "nbconvert_exporter": "python",
   "pygments_lexer": "ipython3",
   "version": "3.12.0"
  }
 },
 "nbformat": 4,
 "nbformat_minor": 2
}
