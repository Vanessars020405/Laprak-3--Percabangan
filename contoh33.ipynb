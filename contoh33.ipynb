{
 "cells": [
  {
   "cell_type": "code",
   "execution_count": 1,
   "metadata": {},
   "outputs": [
    {
     "name": "stdout",
     "output_type": "stream",
     "text": [
      "Terbesar:  7\n"
     ]
    }
   ],
   "source": [
    "try:\n",
    "    #input a, b dan c\n",
    "\n",
    "    a = int(input(\"Masukkan bilangan pertama: \"))\n",
    "    b = int(input(\"Masukkan bilangan kedua: \"))\n",
    "    c = int(input(\"Masukkan bilangan ketiga: \"))\n",
    "    \n",
    "    # secara berurutan tulis kriteria untuk a, b, dan c\n",
    "    if a > b and a > c :\n",
    "        print(\"Terbesar: \", a)\n",
    "    elif b > a and b > c :\n",
    "        print(\"Terbesar: \", b)\n",
    "    elif c > a and c > b :\n",
    "        print(\"Terbesar: \", c)\n",
    "\n",
    "except:\n",
    "    print(\"masukkan berupa angka\")"
   ]
  },
  {
   "cell_type": "code",
   "execution_count": 2,
   "metadata": {},
   "outputs": [
    {
     "name": "stdout",
     "output_type": "stream",
     "text": [
      "masukkan berupa angka\n"
     ]
    }
   ],
   "source": [
    "try:\n",
    "    #input a, b dan c\n",
    "\n",
    "    a = int(input(\"Masukkan bilangan pertama: \"))\n",
    "    b = int(input(\"Masukkan bilangan kedua: \"))\n",
    "    c = int(input(\"Masukkan bilangan ketiga: \"))\n",
    "    \n",
    "    # secara berurutan tulis kriteria untuk a, b, dan c\n",
    "    if a > b and a > c :\n",
    "        print(\"Terbesar: \", a)\n",
    "    elif b > a and b > c :\n",
    "        print(\"Terbesar: \", b)\n",
    "    elif c > a and c > b :\n",
    "        print(\"Terbesar: \", c)\n",
    "\n",
    "except:\n",
    "    print(\"masukkan berupa angka\")"
   ]
  }
 ],
 "metadata": {
  "kernelspec": {
   "display_name": "Python 3",
   "language": "python",
   "name": "python3"
  },
  "language_info": {
   "codemirror_mode": {
    "name": "ipython",
    "version": 3
   },
   "file_extension": ".py",
   "mimetype": "text/x-python",
   "name": "python",
   "nbconvert_exporter": "python",
   "pygments_lexer": "ipython3",
   "version": "3.12.0"
  }
 },
 "nbformat": 4,
 "nbformat_minor": 2
}
