{
 "cells": [
  {
   "cell_type": "code",
   "execution_count": 1,
   "metadata": {},
   "outputs": [
    {
     "name": "stdout",
     "output_type": "stream",
     "text": [
      "Positif\n"
     ]
    }
   ],
   "source": [
    "try :\n",
    "    bilangan = int(input(\"Masukkan suatu bilangan: \"))\n",
    "    if bilangan > 0:\n",
    "     print(\"Positif\")\n",
    "    elif bilangan < 0:\n",
    "     print(\"Negatif\")\n",
    "    elif bilangan == 0:\n",
    "     print(\"Nol\")\n",
    "\n",
    "except:\n",
    "  print(\"format inputan salah\")"
   ]
  },
  {
   "cell_type": "code",
   "execution_count": 2,
   "metadata": {},
   "outputs": [
    {
     "name": "stdout",
     "output_type": "stream",
     "text": [
      "Negatif\n"
     ]
    }
   ],
   "source": [
    "try :\n",
    "    bilangan = int(input(\"Masukkan suatu bilangan: \"))\n",
    "    if bilangan > 0:\n",
    "     print(\"Positif\")\n",
    "    elif bilangan < 0:\n",
    "     print(\"Negatif\")\n",
    "    elif bilangan == 0:\n",
    "     print(\"Nol\")\n",
    "\n",
    "except:\n",
    "  print(\"format inputan salah\")"
   ]
  },
  {
   "cell_type": "code",
   "execution_count": 3,
   "metadata": {},
   "outputs": [
    {
     "name": "stdout",
     "output_type": "stream",
     "text": [
      "format inputan salah\n"
     ]
    }
   ],
   "source": [
    "try :\n",
    "    bilangan = int(input(\"Masukkan suatu bilangan: \"))\n",
    "    if bilangan > 0:\n",
    "     print(\"Positif\")\n",
    "    elif bilangan < 0:\n",
    "     print(\"Negatif\")\n",
    "    elif bilangan == 0:\n",
    "     print(\"Nol\")\n",
    "\n",
    "except:\n",
    "  print(\"format inputan salah\")"
   ]
  },
  {
   "cell_type": "code",
   "execution_count": 4,
   "metadata": {},
   "outputs": [
    {
     "name": "stdout",
     "output_type": "stream",
     "text": [
      "Nol\n"
     ]
    }
   ],
   "source": [
    "try :\n",
    "    bilangan = int(input(\"Masukkan suatu bilangan: \"))\n",
    "    if bilangan > 0:\n",
    "     print(\"Positif\")\n",
    "    elif bilangan < 0:\n",
    "     print(\"Negatif\")\n",
    "    elif bilangan == 0:\n",
    "     print(\"Nol\")\n",
    "\n",
    "except:\n",
    "  print(\"format inputan salah\")"
   ]
  }
 ],
 "metadata": {
  "kernelspec": {
   "display_name": "Python 3",
   "language": "python",
   "name": "python3"
  },
  "language_info": {
   "codemirror_mode": {
    "name": "ipython",
    "version": 3
   },
   "file_extension": ".py",
   "mimetype": "text/x-python",
   "name": "python",
   "nbconvert_exporter": "python",
   "pygments_lexer": "ipython3",
   "version": "3.12.0"
  }
 },
 "nbformat": 4,
 "nbformat_minor": 2
}
