{
 "cells": [
  {
   "cell_type": "code",
   "execution_count": 12,
   "metadata": {},
   "outputs": [
    {
     "name": "stdout",
     "output_type": "stream",
     "text": [
      "Bilangan ini adalah: Positif\n"
     ]
    }
   ],
   "source": [
    "try:\n",
    "    bilangan = int(input(\"masukkan sebuah bilangan = \"))\n",
    "    nilai = \"Positif\" if bilangan > 0 else (\"Negatif\" if  bilangan < 0 else \"Nol\") \n",
    "\n",
    "    print(\"Bilangan ini adalah:\",nilai)\n",
    "except:print(\"masukkan angka\")"
   ]
  },
  {
   "cell_type": "code",
   "execution_count": 16,
   "metadata": {},
   "outputs": [
    {
     "name": "stdout",
     "output_type": "stream",
     "text": [
      "Bilangan ini adalah: Negatif\n"
     ]
    }
   ],
   "source": [
    "try:\n",
    "    bilangan = int(input(\"masukkan sebuah bilangan = \"))\n",
    "    nilai = \"Positif\" if bilangan > 0 else (\"Negatif\" if  bilangan < 0 else \"Nol\") \n",
    "\n",
    "    print(\"Bilangan ini adalah:\",nilai)\n",
    "except: print(\"masukkan angka\")"
   ]
  },
  {
   "cell_type": "code",
   "execution_count": 17,
   "metadata": {},
   "outputs": [
    {
     "name": "stdout",
     "output_type": "stream",
     "text": [
      "Bilangan ini adalah: Nol\n"
     ]
    }
   ],
   "source": [
    "try:\n",
    "    bilangan = int(input(\"masukkan sebuah bilangan = \"))\n",
    "    nilai = \"Positif\" if bilangan > 0 else (\"Negatif\" if  bilangan < 0 else \"Nol\") \n",
    "\n",
    "    print(\"Bilangan ini adalah:\",nilai)\n",
    "except: print(\"masukkan angka\")"
   ]
  },
  {
   "cell_type": "code",
   "execution_count": 18,
   "metadata": {},
   "outputs": [
    {
     "name": "stdout",
     "output_type": "stream",
     "text": [
      "masukkan angka\n"
     ]
    }
   ],
   "source": [
    "try:\n",
    "    bilangan = int(input(\"masukkan sebuah bilangan = \"))\n",
    "    nilai = \"Positif\" if bilangan > 0 else (\"Negatif\" if  bilangan < 0 else \"Nol\") \n",
    "\n",
    "    print(\"Bilangan ini adalah:\",nilai)\n",
    "except: print(\"masukkan angka\")"
   ]
  }
 ],
 "metadata": {
  "kernelspec": {
   "display_name": "Python 3",
   "language": "python",
   "name": "python3"
  },
  "language_info": {
   "codemirror_mode": {
    "name": "ipython",
    "version": 3
   },
   "file_extension": ".py",
   "mimetype": "text/x-python",
   "name": "python",
   "nbconvert_exporter": "python",
   "pygments_lexer": "ipython3",
   "version": "3.12.0"
  }
 },
 "nbformat": 4,
 "nbformat_minor": 2
}
