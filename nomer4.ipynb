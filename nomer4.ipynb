{
 "cells": [
  {
   "cell_type": "code",
   "execution_count": 1,
   "metadata": {},
   "outputs": [
    {
     "name": "stdout",
     "output_type": "stream",
     "text": [
      "Tidak ada yang sama\n"
     ]
    }
   ],
   "source": [
    "try:\n",
    "    s1 = int(input(\"masukkan sisi 1 =\"))\n",
    "    s2 = int(input(\"masukkan sisi 2 =\"))\n",
    "    s3 = int(input(\"masukkan sisi 3 =\"))\n",
    "    \n",
    "    if s1 == s2 == s3:\n",
    "        print(\"3 sisi sama\")\n",
    "    elif s1 == s2 or s1 == s3 or s2 == s3:\n",
    "        print(\"2 sisi sama\")\n",
    "    else:\n",
    "        print(\"Tidak ada yang sama\")\n",
    "except:\n",
    "    print(\"input tidak valid\")\n"
   ]
  },
  {
   "cell_type": "code",
   "execution_count": 2,
   "metadata": {},
   "outputs": [
    {
     "name": "stdout",
     "output_type": "stream",
     "text": [
      "3 sisi sama\n"
     ]
    }
   ],
   "source": [
    "try:\n",
    "    s1 = int(input(\"masukkan sisi 1 =\"))\n",
    "    s2 = int(input(\"masukkan sisi 2 =\"))\n",
    "    s3 = int(input(\"masukkan sisi 3 =\"))\n",
    "    \n",
    "    if s1 == s2 == s3:\n",
    "        print(\"3 sisi sama\")\n",
    "    elif s1 == s2 or s1 == s3 or s2 == s3:\n",
    "        print(\"2 sisi sama\")\n",
    "    else:\n",
    "        print(\"Tidak ada yang sama\")\n",
    "except:\n",
    "    print(\"input tidak valid\")\n"
   ]
  },
  {
   "cell_type": "code",
   "execution_count": 3,
   "metadata": {},
   "outputs": [
    {
     "name": "stdout",
     "output_type": "stream",
     "text": [
      "2 sisi sama\n"
     ]
    }
   ],
   "source": [
    "try:\n",
    "    s1 = int(input(\"masukkan sisi 1 =\"))\n",
    "    s2 = int(input(\"masukkan sisi 2 =\"))\n",
    "    s3 = int(input(\"masukkan sisi 3 =\"))\n",
    "    \n",
    "    if s1 == s2 == s3:\n",
    "        print(\"3 sisi sama\")\n",
    "    elif s1 == s2 or s1 == s3 or s2 == s3:\n",
    "        print(\"2 sisi sama\")\n",
    "    else:\n",
    "        print(\"Tidak ada yang sama\")\n",
    "except:\n",
    "    print(\"input tidak valid\")\n"
   ]
  },
  {
   "cell_type": "code",
   "execution_count": 4,
   "metadata": {},
   "outputs": [
    {
     "name": "stdout",
     "output_type": "stream",
     "text": [
      "input tidak valid\n"
     ]
    }
   ],
   "source": [
    "try:\n",
    "    s1 = int(input(\"masukkan sisi 1 =\"))\n",
    "    s2 = int(input(\"masukkan sisi 2 =\"))\n",
    "    s3 = int(input(\"masukkan sisi 3 =\"))\n",
    "    \n",
    "    if s1 == s2 == s3:\n",
    "        print(\"3 sisi sama\")\n",
    "    elif s1 == s2 or s1 == s3 or s2 == s3:\n",
    "        print(\"2 sisi sama\")\n",
    "    else:\n",
    "        print(\"Tidak ada yang sama\")\n",
    "except:\n",
    "    print(\"input tidak valid\")\n"
   ]
  }
 ],
 "metadata": {
  "kernelspec": {
   "display_name": "Python 3",
   "language": "python",
   "name": "python3"
  },
  "language_info": {
   "codemirror_mode": {
    "name": "ipython",
    "version": 3
   },
   "file_extension": ".py",
   "mimetype": "text/x-python",
   "name": "python",
   "nbconvert_exporter": "python",
   "pygments_lexer": "ipython3",
   "version": "3.12.0"
  }
 },
 "nbformat": 4,
 "nbformat_minor": 2
}
