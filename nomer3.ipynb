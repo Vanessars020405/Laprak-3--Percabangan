{
 "cells": [
  {
   "cell_type": "code",
   "execution_count": 12,
   "metadata": {},
   "outputs": [
    {
     "name": "stdout",
     "output_type": "stream",
     "text": [
      "Jumlah hari: 30\n"
     ]
    }
   ],
   "source": [
    "def jumlah_hari(bulan):\n",
    "    \n",
    "        if bulan == 2:\n",
    "            return 29  #29 hari di bulan februari\n",
    "        elif bulan in [4, 6, 9, 11]:\n",
    "            return 30  # Bulan April (4), Juni (6), September (9), dan November (11) memiliki 30 hari\n",
    "        else:\n",
    "            return 31  # Bulan Januari (1), Maret(3), Mei(5), Juli(7), Agustus(8), Oktober(10), Desember(12)\n",
    "   \n",
    "try:\n",
    "        nomor_bulan = int(input(\"Masukkan nomor bulan (1-12): \"))\n",
    "\n",
    "        if nomor_bulan <= 1 or nomor_bulan <= 12:\n",
    "         print(f\"Jumlah hari:\", jumlah_hari(nomor_bulan))\n",
    "        else:\n",
    "           print(print(\"Nomor bulan tidak valid!\"))\n",
    "        \n",
    "except: print(\"bulan yang diinputkan tidak valid\")\n"
   ]
  },
  {
   "cell_type": "code",
   "execution_count": 13,
   "metadata": {},
   "outputs": [
    {
     "name": "stdout",
     "output_type": "stream",
     "text": [
      "bulan yang diinputkan tidak valid\n"
     ]
    }
   ],
   "source": [
    "def jumlah_hari(bulan):\n",
    "    \n",
    "        if bulan == 2:\n",
    "            return 29  #29 hari di bulan februari\n",
    "        elif bulan in [4, 6, 9, 11]:\n",
    "            return 30  # Bulan April (4), Juni (6), September (9), dan November (11) memiliki 30 hari\n",
    "        else:\n",
    "            return 31  # Bulan Januari (1), Maret(3), Mei(5), Juli(7), Agustus(8), Oktober(10), Desember(12)\n",
    "   \n",
    "try:\n",
    "        nomor_bulan = int(input(\"Masukkan nomor bulan (1-12): \"))\n",
    "\n",
    "        if nomor_bulan <= 1 or nomor_bulan <= 12:\n",
    "         print(f\"Jumlah hari:\", jumlah_hari(nomor_bulan))\n",
    "        else:\n",
    "           print(print(\"Nomor bulan tidak valid!\"))\n",
    "        \n",
    "except: print(\"bulan yang diinputkan tidak valid\")"
   ]
  }
 ],
 "metadata": {
  "kernelspec": {
   "display_name": "Python 3",
   "language": "python",
   "name": "python3"
  },
  "language_info": {
   "codemirror_mode": {
    "name": "ipython",
    "version": 3
   },
   "file_extension": ".py",
   "mimetype": "text/x-python",
   "name": "python",
   "nbconvert_exporter": "python",
   "pygments_lexer": "ipython3",
   "version": "3.12.0"
  }
 },
 "nbformat": 4,
 "nbformat_minor": 2
}
